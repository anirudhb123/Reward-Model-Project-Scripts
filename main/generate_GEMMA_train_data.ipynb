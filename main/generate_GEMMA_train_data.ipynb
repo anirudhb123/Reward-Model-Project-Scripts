{
 "cells": [
  {
   "cell_type": "code",
   "execution_count": 3,
   "metadata": {},
   "outputs": [
    {
     "name": "stdout",
     "output_type": "stream",
     "text": [
      "Saved formatted data to GEMMA_training_sample.jsonl\n"
     ]
    }
   ],
   "source": [
    "import json\n",
    "from datasets import load_dataset\n",
    "import random\n",
    "\n",
    "dataset = load_dataset(\"Skywork/Skywork-Reward-Preference-80K-v0.2\")\n",
    "\n",
    "random.seed(42)  # Ensure reproducibility\n",
    "sampled_data = random.sample(list(dataset['train']), 10000)\n",
    "\n",
    "formatted_data = []\n",
    "for row in sampled_data:\n",
    "    chosen_content = row['chosen'][1]['content'] if len(row['chosen']) > 1 else \"\"\n",
    "    rejected_content = row['rejected'][1]['content'] if len(row['rejected']) > 1 else \"\"\n",
    "    content = row['chosen'][0]['content'] if len(row['chosen']) > 0 else \"\"\n",
    "\n",
    "    formatted_data.append({\n",
    "        \"query\": content,\n",
    "        \"chosen\": chosen_content,\n",
    "        \"rejected\": rejected_content\n",
    "    })\n",
    "\n",
    "output_file = \"GEMMA_training_sample.jsonl\"\n",
    "with open(output_file, 'w') as f:\n",
    "    for item in formatted_data:\n",
    "        f.write(json.dumps(item) + \"\\n\")\n",
    "\n",
    "print(f\"Saved formatted data to {output_file}\")"
   ]
  }
 ],
 "metadata": {
  "kernelspec": {
   "display_name": "Python 3",
   "language": "python",
   "name": "python3"
  },
  "language_info": {
   "codemirror_mode": {
    "name": "ipython",
    "version": 3
   },
   "file_extension": ".py",
   "mimetype": "text/x-python",
   "name": "python",
   "nbconvert_exporter": "python",
   "pygments_lexer": "ipython3",
   "version": "3.12.3"
  }
 },
 "nbformat": 4,
 "nbformat_minor": 2
}
